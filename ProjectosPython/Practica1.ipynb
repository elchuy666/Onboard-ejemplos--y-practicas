{
 "cells": [
  {
   "cell_type": "markdown",
   "metadata": {},
   "source": [
    "# Tip de practica 1: Intenta ejecutarlo en una notebook"
   ]
  },
  {
   "cell_type": "code",
   "execution_count": 5,
   "metadata": {},
   "outputs": [
    {
     "name": "stdout",
     "output_type": "stream",
     "text": [
      "Fuciona correctamente, a = 55 y b = 97\n"
     ]
    }
   ],
   "source": [
    "b = 27\n",
    "a = 93\n",
    "#test expresion / expresion de prueba\n",
    "if a >= b:\n",
    "    # statement to be run\n",
    "    print(a) \n",
    "else:\n",
    "    # statement to be run\n",
    "     print(b)    "
   ]
  },
  {
   "cell_type": "code",
   "execution_count": 6,
   "metadata": {},
   "outputs": [
    {
     "name": "stdout",
     "output_type": "stream",
     "text": [
      "a es mayor que b\n"
     ]
    }
   ],
   "source": [
    "a = 93\n",
    "b = 27\n",
    "if a >= b:\n",
    "    print(\"a es mayor que b\")\n",
    "elif a==b:\n",
    "    print(\"a es igual que b\")    "
   ]
  },
  {
   "cell_type": "code",
   "execution_count": null,
   "metadata": {},
   "outputs": [],
   "source": [
    "a = 93\n",
    "b = 27\n",
    "if a > b:\n",
    "    print(\"a es mayor que b\")\n",
    "elif a<b:\n",
    "    print(\"a es menor que b\")\n",
    "else:\n",
    "    print(\"a es igual que b\")        "
   ]
  },
  {
   "cell_type": "code",
   "execution_count": null,
   "metadata": {},
   "outputs": [],
   "source": [
    "a = 16\n",
    "b = 25\n",
    "c = 27\n",
    "if a > b:\n",
    "    if b > c:\n",
    "        print (\"a es mayor que b y b es mayor que c\")\n",
    "    else: \n",
    "        print (\"a es mayor que b y menor que c\")\n",
    "elif a == b:\n",
    "    print (\"a es igual que b\")\n",
    "else:\n",
    "    print (\"a es menor que b\")"
   ]
  },
  {
   "cell_type": "code",
   "execution_count": 8,
   "metadata": {},
   "outputs": [
    {
     "name": "stdout",
     "output_type": "stream",
     "text": [
      "57\n"
     ]
    }
   ],
   "source": [
    "a = 23\n",
    "b = 34\n",
    "if a == 34 or b == 34:\n",
    "    print(a + b)"
   ]
  },
  {
   "cell_type": "code",
   "execution_count": 9,
   "metadata": {},
   "outputs": [],
   "source": [
    "a = 23\n",
    "b = 34\n",
    "if a == 34 and b == 34:\n",
    "    print (a + b)"
   ]
  },
  {
   "cell_type": "code",
   "execution_count": null,
   "metadata": {},
   "outputs": [],
   "source": [
    "temperatures = 'Mars Average Temperature: -60 C'\n",
    "parts = temperatures.split(':')\n",
    "parts[-1]"
   ]
  }
 ],
 "metadata": {
  "interpreter": {
   "hash": "f31be85f71433d87c2bbd867f081f066f94ecb955068deb0c3d36118e4f16df1"
  },
  "kernelspec": {
   "display_name": "Python 3.9.7 64-bit",
   "language": "python",
   "name": "python3"
  },
  "language_info": {
   "codemirror_mode": {
    "name": "ipython",
    "version": 3
   },
   "file_extension": ".py",
   "mimetype": "text/x-python",
   "name": "python",
   "nbconvert_exporter": "python",
   "pygments_lexer": "ipython3",
   "version": "3.9.7"
  },
  "orig_nbformat": 4
 },
 "nbformat": 4,
 "nbformat_minor": 2
}
